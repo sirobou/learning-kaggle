{
 "cells": [
  {
   "cell_type": "code",
   "execution_count": 1,
   "id": "ddf9bd50",
   "metadata": {
    "_cell_guid": "b1076dfc-b9ad-4769-8c92-a6c4dae69d19",
    "_uuid": "8f2839f25d086af736a60e9eeb907d3b93b6e0e5",
    "execution": {
     "iopub.execute_input": "2022-05-11T03:36:33.041936Z",
     "iopub.status.busy": "2022-05-11T03:36:33.041451Z",
     "iopub.status.idle": "2022-05-11T03:36:33.060158Z",
     "shell.execute_reply": "2022-05-11T03:36:33.058604Z"
    },
    "papermill": {
     "duration": 0.035258,
     "end_time": "2022-05-11T03:36:33.062509",
     "exception": false,
     "start_time": "2022-05-11T03:36:33.027251",
     "status": "completed"
    },
    "tags": []
   },
   "outputs": [
    {
     "name": "stdout",
     "output_type": "stream",
     "text": [
      "/kaggle/input/titanic/train.csv\n",
      "/kaggle/input/titanic/test.csv\n",
      "/kaggle/input/titanic/gender_submission.csv\n"
     ]
    }
   ],
   "source": [
    "# This Python 3 environment comes with many helpful analytics libraries installed\n",
    "# It is defined by the kaggle/python Docker image: https://github.com/kaggle/docker-python\n",
    "# For example, here's several helpful packages to load\n",
    "\n",
    "import numpy as np # linear algebra\n",
    "import pandas as pd # data processing, CSV file I/O (e.g. pd.read_csv)\n",
    "\n",
    "# Input data files are available in the read-only \"../input/\" directory\n",
    "# For example, running this (by clicking run or pressing Shift+Enter) will list all files under the input directory\n",
    "\n",
    "import os\n",
    "for dirname, _, filenames in os.walk('/kaggle/input'):\n",
    "    for filename in filenames:\n",
    "        print(os.path.join(dirname, filename))\n",
    "\n",
    "# You can write up to 20GB to the current directory (/kaggle/working/) that gets preserved as output when you create a version using \"Save & Run All\" \n",
    "# You can also write temporary files to /kaggle/temp/, but they won't be saved outside of the current session\n"
   ]
  },
  {
   "cell_type": "code",
   "execution_count": 2,
   "id": "7a2616bc",
   "metadata": {
    "execution": {
     "iopub.execute_input": "2022-05-11T03:36:33.095130Z",
     "iopub.status.busy": "2022-05-11T03:36:33.094382Z",
     "iopub.status.idle": "2022-05-11T03:36:33.126806Z",
     "shell.execute_reply": "2022-05-11T03:36:33.125186Z"
    },
    "papermill": {
     "duration": 0.050442,
     "end_time": "2022-05-11T03:36:33.128881",
     "exception": false,
     "start_time": "2022-05-11T03:36:33.078439",
     "status": "completed"
    },
    "tags": []
   },
   "outputs": [
    {
     "data": {
      "text/plain": [
       "PassengerId      0\n",
       "Survived         0\n",
       "Pclass           0\n",
       "Name             0\n",
       "Sex              0\n",
       "Age            177\n",
       "SibSp            0\n",
       "Parch            0\n",
       "Ticket           0\n",
       "Fare             0\n",
       "Cabin          687\n",
       "Embarked         2\n",
       "dtype: int64"
      ]
     },
     "execution_count": 2,
     "metadata": {},
     "output_type": "execute_result"
    }
   ],
   "source": [
    "import pandas as pd\n",
    "import numpy as np\n",
    "train = pd.read_csv(\"../input/titanic/train.csv\")\n",
    "train.head()\n",
    "train.isnull().sum()"
   ]
  },
  {
   "cell_type": "code",
   "execution_count": 3,
   "id": "dcc83e1c",
   "metadata": {
    "execution": {
     "iopub.execute_input": "2022-05-11T03:36:33.160086Z",
     "iopub.status.busy": "2022-05-11T03:36:33.159813Z",
     "iopub.status.idle": "2022-05-11T03:36:33.186329Z",
     "shell.execute_reply": "2022-05-11T03:36:33.185421Z"
    },
    "papermill": {
     "duration": 0.044166,
     "end_time": "2022-05-11T03:36:33.188388",
     "exception": false,
     "start_time": "2022-05-11T03:36:33.144222",
     "status": "completed"
    },
    "tags": []
   },
   "outputs": [
    {
     "data": {
      "text/html": [
       "<div>\n",
       "<style scoped>\n",
       "    .dataframe tbody tr th:only-of-type {\n",
       "        vertical-align: middle;\n",
       "    }\n",
       "\n",
       "    .dataframe tbody tr th {\n",
       "        vertical-align: top;\n",
       "    }\n",
       "\n",
       "    .dataframe thead th {\n",
       "        text-align: right;\n",
       "    }\n",
       "</style>\n",
       "<table border=\"1\" class=\"dataframe\">\n",
       "  <thead>\n",
       "    <tr style=\"text-align: right;\">\n",
       "      <th></th>\n",
       "      <th>PassengerId</th>\n",
       "      <th>Pclass</th>\n",
       "      <th>Name</th>\n",
       "      <th>Sex</th>\n",
       "      <th>Age</th>\n",
       "      <th>SibSp</th>\n",
       "      <th>Parch</th>\n",
       "      <th>Ticket</th>\n",
       "      <th>Fare</th>\n",
       "      <th>Cabin</th>\n",
       "      <th>Embarked</th>\n",
       "    </tr>\n",
       "  </thead>\n",
       "  <tbody>\n",
       "    <tr>\n",
       "      <th>0</th>\n",
       "      <td>892</td>\n",
       "      <td>3</td>\n",
       "      <td>Kelly, Mr. James</td>\n",
       "      <td>male</td>\n",
       "      <td>34.5</td>\n",
       "      <td>0</td>\n",
       "      <td>0</td>\n",
       "      <td>330911</td>\n",
       "      <td>7.8292</td>\n",
       "      <td>NaN</td>\n",
       "      <td>Q</td>\n",
       "    </tr>\n",
       "    <tr>\n",
       "      <th>1</th>\n",
       "      <td>893</td>\n",
       "      <td>3</td>\n",
       "      <td>Wilkes, Mrs. James (Ellen Needs)</td>\n",
       "      <td>female</td>\n",
       "      <td>47.0</td>\n",
       "      <td>1</td>\n",
       "      <td>0</td>\n",
       "      <td>363272</td>\n",
       "      <td>7.0000</td>\n",
       "      <td>NaN</td>\n",
       "      <td>S</td>\n",
       "    </tr>\n",
       "    <tr>\n",
       "      <th>2</th>\n",
       "      <td>894</td>\n",
       "      <td>2</td>\n",
       "      <td>Myles, Mr. Thomas Francis</td>\n",
       "      <td>male</td>\n",
       "      <td>62.0</td>\n",
       "      <td>0</td>\n",
       "      <td>0</td>\n",
       "      <td>240276</td>\n",
       "      <td>9.6875</td>\n",
       "      <td>NaN</td>\n",
       "      <td>Q</td>\n",
       "    </tr>\n",
       "    <tr>\n",
       "      <th>3</th>\n",
       "      <td>895</td>\n",
       "      <td>3</td>\n",
       "      <td>Wirz, Mr. Albert</td>\n",
       "      <td>male</td>\n",
       "      <td>27.0</td>\n",
       "      <td>0</td>\n",
       "      <td>0</td>\n",
       "      <td>315154</td>\n",
       "      <td>8.6625</td>\n",
       "      <td>NaN</td>\n",
       "      <td>S</td>\n",
       "    </tr>\n",
       "    <tr>\n",
       "      <th>4</th>\n",
       "      <td>896</td>\n",
       "      <td>3</td>\n",
       "      <td>Hirvonen, Mrs. Alexander (Helga E Lindqvist)</td>\n",
       "      <td>female</td>\n",
       "      <td>22.0</td>\n",
       "      <td>1</td>\n",
       "      <td>1</td>\n",
       "      <td>3101298</td>\n",
       "      <td>12.2875</td>\n",
       "      <td>NaN</td>\n",
       "      <td>S</td>\n",
       "    </tr>\n",
       "  </tbody>\n",
       "</table>\n",
       "</div>"
      ],
      "text/plain": [
       "   PassengerId  Pclass                                          Name     Sex  \\\n",
       "0          892       3                              Kelly, Mr. James    male   \n",
       "1          893       3              Wilkes, Mrs. James (Ellen Needs)  female   \n",
       "2          894       2                     Myles, Mr. Thomas Francis    male   \n",
       "3          895       3                              Wirz, Mr. Albert    male   \n",
       "4          896       3  Hirvonen, Mrs. Alexander (Helga E Lindqvist)  female   \n",
       "\n",
       "    Age  SibSp  Parch   Ticket     Fare Cabin Embarked  \n",
       "0  34.5      0      0   330911   7.8292   NaN        Q  \n",
       "1  47.0      1      0   363272   7.0000   NaN        S  \n",
       "2  62.0      0      0   240276   9.6875   NaN        Q  \n",
       "3  27.0      0      0   315154   8.6625   NaN        S  \n",
       "4  22.0      1      1  3101298  12.2875   NaN        S  "
      ]
     },
     "execution_count": 3,
     "metadata": {},
     "output_type": "execute_result"
    }
   ],
   "source": [
    "test = pd.read_csv(\"../input/titanic/test.csv\")\n",
    "test.head()"
   ]
  },
  {
   "cell_type": "code",
   "execution_count": 4,
   "id": "9cdd01bc",
   "metadata": {
    "execution": {
     "iopub.execute_input": "2022-05-11T03:36:33.215375Z",
     "iopub.status.busy": "2022-05-11T03:36:33.215124Z",
     "iopub.status.idle": "2022-05-11T03:36:33.228232Z",
     "shell.execute_reply": "2022-05-11T03:36:33.227336Z"
    },
    "papermill": {
     "duration": 0.028711,
     "end_time": "2022-05-11T03:36:33.230159",
     "exception": false,
     "start_time": "2022-05-11T03:36:33.201448",
     "status": "completed"
    },
    "tags": []
   },
   "outputs": [
    {
     "data": {
      "text/html": [
       "<div>\n",
       "<style scoped>\n",
       "    .dataframe tbody tr th:only-of-type {\n",
       "        vertical-align: middle;\n",
       "    }\n",
       "\n",
       "    .dataframe tbody tr th {\n",
       "        vertical-align: top;\n",
       "    }\n",
       "\n",
       "    .dataframe thead th {\n",
       "        text-align: right;\n",
       "    }\n",
       "</style>\n",
       "<table border=\"1\" class=\"dataframe\">\n",
       "  <thead>\n",
       "    <tr style=\"text-align: right;\">\n",
       "      <th></th>\n",
       "      <th>PassengerId</th>\n",
       "      <th>Survived</th>\n",
       "    </tr>\n",
       "  </thead>\n",
       "  <tbody>\n",
       "    <tr>\n",
       "      <th>0</th>\n",
       "      <td>892</td>\n",
       "      <td>0</td>\n",
       "    </tr>\n",
       "    <tr>\n",
       "      <th>1</th>\n",
       "      <td>893</td>\n",
       "      <td>1</td>\n",
       "    </tr>\n",
       "    <tr>\n",
       "      <th>2</th>\n",
       "      <td>894</td>\n",
       "      <td>0</td>\n",
       "    </tr>\n",
       "    <tr>\n",
       "      <th>3</th>\n",
       "      <td>895</td>\n",
       "      <td>0</td>\n",
       "    </tr>\n",
       "    <tr>\n",
       "      <th>4</th>\n",
       "      <td>896</td>\n",
       "      <td>1</td>\n",
       "    </tr>\n",
       "  </tbody>\n",
       "</table>\n",
       "</div>"
      ],
      "text/plain": [
       "   PassengerId  Survived\n",
       "0          892         0\n",
       "1          893         1\n",
       "2          894         0\n",
       "3          895         0\n",
       "4          896         1"
      ]
     },
     "execution_count": 4,
     "metadata": {},
     "output_type": "execute_result"
    }
   ],
   "source": [
    "gender_submission = pd.read_csv(\"../input/titanic/gender_submission.csv\")\n",
    "gender_submission.head()"
   ]
  },
  {
   "cell_type": "code",
   "execution_count": 5,
   "id": "ce592f97",
   "metadata": {
    "execution": {
     "iopub.execute_input": "2022-05-11T03:36:33.257839Z",
     "iopub.status.busy": "2022-05-11T03:36:33.257580Z",
     "iopub.status.idle": "2022-05-11T03:36:33.266867Z",
     "shell.execute_reply": "2022-05-11T03:36:33.266035Z"
    },
    "papermill": {
     "duration": 0.025363,
     "end_time": "2022-05-11T03:36:33.268686",
     "exception": false,
     "start_time": "2022-05-11T03:36:33.243323",
     "status": "completed"
    },
    "tags": []
   },
   "outputs": [
    {
     "data": {
      "text/plain": [
       "PassengerId      0\n",
       "Survived         0\n",
       "Pclass           0\n",
       "Name             0\n",
       "Sex              0\n",
       "Age            177\n",
       "SibSp            0\n",
       "Parch            0\n",
       "Ticket           0\n",
       "Fare             0\n",
       "Cabin          687\n",
       "Embarked         2\n",
       "dtype: int64"
      ]
     },
     "execution_count": 5,
     "metadata": {},
     "output_type": "execute_result"
    }
   ],
   "source": [
    "train.isnull().sum()"
   ]
  },
  {
   "cell_type": "code",
   "execution_count": 6,
   "id": "7d617505",
   "metadata": {
    "execution": {
     "iopub.execute_input": "2022-05-11T03:36:33.297305Z",
     "iopub.status.busy": "2022-05-11T03:36:33.297068Z",
     "iopub.status.idle": "2022-05-11T03:36:33.316563Z",
     "shell.execute_reply": "2022-05-11T03:36:33.315871Z"
    },
    "papermill": {
     "duration": 0.036369,
     "end_time": "2022-05-11T03:36:33.318695",
     "exception": false,
     "start_time": "2022-05-11T03:36:33.282326",
     "status": "completed"
    },
    "tags": []
   },
   "outputs": [],
   "source": [
    "train[\"Age\"] = train[\"Age\"].fillna(train[\"Age\"].mode()[0])\n",
    "train[\"Cabin\"] = train[\"Cabin\"].fillna(train[\"Cabin\"].mode()[0])\n",
    "train[\"Embarked\"] = train[\"Embarked\"].fillna(train[\"Embarked\"].mode()[0])\n",
    "\n",
    "test[\"Age\"] = test[\"Age\"].fillna(test[\"Age\"].mode()[0])\n",
    "test[\"Fare\"] = test[\"Fare\"].fillna(test[\"Fare\"].mode()[0])\n",
    "test[\"Cabin\"] = test[\"Cabin\"].fillna(test[\"Cabin\"].mode()[0])"
   ]
  },
  {
   "cell_type": "code",
   "execution_count": 7,
   "id": "e18267f0",
   "metadata": {
    "execution": {
     "iopub.execute_input": "2022-05-11T03:36:33.347572Z",
     "iopub.status.busy": "2022-05-11T03:36:33.347051Z",
     "iopub.status.idle": "2022-05-11T03:36:33.365223Z",
     "shell.execute_reply": "2022-05-11T03:36:33.364643Z"
    },
    "papermill": {
     "duration": 0.034818,
     "end_time": "2022-05-11T03:36:33.367118",
     "exception": false,
     "start_time": "2022-05-11T03:36:33.332300",
     "status": "completed"
    },
    "tags": []
   },
   "outputs": [],
   "source": [
    "train = pd.get_dummies(train, columns=['Sex', 'Embarked'])\n",
    "test = pd.get_dummies(test, columns=['Sex', 'Embarked'])"
   ]
  },
  {
   "cell_type": "code",
   "execution_count": 8,
   "id": "7cfbfcaa",
   "metadata": {
    "execution": {
     "iopub.execute_input": "2022-05-11T03:36:33.395910Z",
     "iopub.status.busy": "2022-05-11T03:36:33.395615Z",
     "iopub.status.idle": "2022-05-11T03:36:34.562682Z",
     "shell.execute_reply": "2022-05-11T03:36:34.561886Z"
    },
    "papermill": {
     "duration": 1.18438,
     "end_time": "2022-05-11T03:36:34.565102",
     "exception": false,
     "start_time": "2022-05-11T03:36:33.380722",
     "status": "completed"
    },
    "tags": []
   },
   "outputs": [],
   "source": [
    "from sklearn.neighbors import KNeighborsClassifier\n",
    "clf = KNeighborsClassifier(n_neighbors=1)\n",
    "\n",
    "X_train = train[[\"Pclass\", \"Age\", \"SibSp\", \"Parch\", \"Fare\", \"Sex_female\", \"Sex_male\", \"Embarked_C\", \"Embarked_Q\", \"Embarked_S\"]]\n",
    "y_train = train[\"Survived\"]\n",
    "\n",
    "X_test = test[[\"Pclass\", \"Age\", \"SibSp\", \"Parch\", \"Fare\", \"Sex_female\", \"Sex_male\", \"Embarked_C\", \"Embarked_Q\", \"Embarked_S\"]]\n",
    "\n",
    "clf.fit(X_train, y_train)\n",
    "\n",
    "# t_test に予測結果を格納\n",
    "y_test = clf.predict(X_test)"
   ]
  },
  {
   "cell_type": "code",
   "execution_count": 9,
   "id": "ffc59318",
   "metadata": {
    "execution": {
     "iopub.execute_input": "2022-05-11T03:36:34.593597Z",
     "iopub.status.busy": "2022-05-11T03:36:34.593321Z",
     "iopub.status.idle": "2022-05-11T03:36:34.602906Z",
     "shell.execute_reply": "2022-05-11T03:36:34.602064Z"
    },
    "papermill": {
     "duration": 0.026177,
     "end_time": "2022-05-11T03:36:34.604970",
     "exception": false,
     "start_time": "2022-05-11T03:36:34.578793",
     "status": "completed"
    },
    "tags": []
   },
   "outputs": [],
   "source": [
    "# PassengerId を取得\n",
    "PassengerId = np.array(test[\"PassengerId\"]).astype(int)\n",
    "\n",
    "# y_test と PassengerId を結合\n",
    "answer = pd.DataFrame(y_test, PassengerId, columns = [\"Survived\"])\n",
    "\n",
    "# titanic_answer_01.csv としてエクスポート\n",
    "answer.to_csv(\"titanic_answer_01.csv\", index_label = [\"PassengerId\"])"
   ]
  },
  {
   "cell_type": "code",
   "execution_count": null,
   "id": "bbbd72d4",
   "metadata": {
    "papermill": {
     "duration": 0.012996,
     "end_time": "2022-05-11T03:36:34.631503",
     "exception": false,
     "start_time": "2022-05-11T03:36:34.618507",
     "status": "completed"
    },
    "tags": []
   },
   "outputs": [],
   "source": []
  }
 ],
 "metadata": {
  "kernelspec": {
   "display_name": "Python 3",
   "language": "python",
   "name": "python3"
  },
  "language_info": {
   "codemirror_mode": {
    "name": "ipython",
    "version": 3
   },
   "file_extension": ".py",
   "mimetype": "text/x-python",
   "name": "python",
   "nbconvert_exporter": "python",
   "pygments_lexer": "ipython3",
   "version": "3.7.12"
  },
  "papermill": {
   "default_parameters": {},
   "duration": 11.581994,
   "end_time": "2022-05-11T03:36:35.365101",
   "environment_variables": {},
   "exception": null,
   "input_path": "__notebook__.ipynb",
   "output_path": "__notebook__.ipynb",
   "parameters": {},
   "start_time": "2022-05-11T03:36:23.783107",
   "version": "2.3.4"
  }
 },
 "nbformat": 4,
 "nbformat_minor": 5
}
